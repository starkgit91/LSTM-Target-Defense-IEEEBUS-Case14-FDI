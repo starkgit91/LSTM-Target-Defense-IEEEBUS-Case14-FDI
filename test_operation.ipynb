{
 "cells": [
  {
   "cell_type": "code",
   "execution_count": null,
   "metadata": {},
   "outputs": [],
   "source": [
    "import numpy as np\n",
    "from fdi_att import FDI\n",
    "from pypower.api import case14\n",
    "from config_mea_idx import define_mea_idx_noise\n",
    "from config_se import se_config\n",
    "\n",
    "case = case14()\n",
    "idx, no_mea, noise_sigma = define_mea_idx_noise(case, choice = 'RTU')\n"
   ]
  },
  {
   "cell_type": "code",
   "execution_count": null,
   "metadata": {},
   "outputs": [],
   "source": [
    "case_env = FDI(case, noise_sigma, idx, fpr = 0.05)\n",
    "print(f'No Measurement: {case_env.no_mea}')\n",
    "result = case_env.run_opf()\n",
    "z, z_noise, vang_ref, vmag_ref = case_env.construct_mea(result)\n",
    "v_est, _ = case_env.ac_se_pypower(z_noise, vang_ref, vmag_ref)\n",
    "residual = case_env.bdd_residual(z_noise, v_est)\n",
    "print(residual)\n",
    "print(case_env.bdd_threshold)"
   ]
  },
  {
   "cell_type": "code",
   "execution_count": null,
   "metadata": {},
   "outputs": [],
   "source": [
    "import random\n",
    "att_spec = {}\n",
    "# Voltage angle\n",
    "ang_no = np.random.randint(1, 4+1)     # Attack bus number\n",
    "att_spec['ang_posi'] = random.sample(case_env.non_ref_index, ang_no)    # Attack bus position\n",
    "att_spec['ang_str'] = -0.5+0.5*2*np.random.rand(ang_no)                      # Attack value\n",
    "# Voltage magnitude\n",
    "mag_no = np.random.randint(case_env.no_bus-1)\n",
    "att_spec['mag_posi'] = random.sample(case_env.non_ref_index, mag_no)\n",
    "att_spec['mag_str'] = -0.001+0.002*np.random.rand()\n",
    "v_att, att_posi = case_env.gen_fdi_att(v_est=v_est, att_spec=att_spec)"
   ]
  },
  {
   "cell_type": "code",
   "execution_count": null,
   "metadata": {},
   "outputs": [],
   "source": [
    "h_est = case_env.h_x_pypower(v_est)\n",
    "h_att_est = case_env.h_x_pypower(v_att)\n",
    "z_noise_att = z_noise + h_att_est - h_est\n",
    "v_att_est, _ = case_env.ac_se_pypower(z_noise_att, vang_ref, vmag_ref)\n",
    "residual_att = case_env.bdd_residual(z_noise_att, v_att_est)\n",
    "print(residual_att)\n",
    "print(case_env.bdd_threshold)"
   ]
  },
  {
   "cell_type": "code",
   "execution_count": null,
   "metadata": {},
   "outputs": [],
   "source": []
  }
 ],
 "metadata": {
  "interpreter": {
   "hash": "42311c8ec012dcdc3655cf6445a3c2f2076c57d716a9fb4bcc670bf93e5889c5"
  },
  "kernelspec": {
   "display_name": "Python 3.10.0 ('power_system_visualization')",
   "language": "python",
   "name": "python3"
  },
  "language_info": {
   "codemirror_mode": {
    "name": "ipython",
    "version": 3
   },
   "file_extension": ".py",
   "mimetype": "text/x-python",
   "name": "python",
   "nbconvert_exporter": "python",
   "pygments_lexer": "ipython3",
   "version": "3.10.9"
  },
  "orig_nbformat": 4
 },
 "nbformat": 4,
 "nbformat_minor": 2
}
